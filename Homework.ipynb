{
 "cells": [
  {
   "cell_type": "markdown",
   "metadata": {},
   "source": [
    "# Homework \n",
    "\n",
    "\n",
    "   \n",
    "\n",
    "## Instructor\n",
    "\n",
    "    Dr. Fatima Boukari\n",
    "    Division: PEMaCS\n",
    "    \n",
    "    \n"
   ]
  },
  {
   "cell_type": "markdown",
   "id": "9a6d881c",
   "metadata": {},
   "source": [
    "## Problem 1: \n",
    "\n",
    "Predict penguins species based on two body measurements: culmen length and culmen depth. "
   ]
  },
  {
   "cell_type": "markdown",
   "metadata": {},
   "source": [
    "Q1: Load the data 'penguins_species.csv`"
   ]
  },
  {
   "cell_type": "code",
   "execution_count": 3,
   "id": "075cfd62",
   "metadata": {},
   "outputs": [],
   "source": [
    "# Write your code here."
   ]
  },
  {
   "cell_type": "markdown",
   "metadata": {},
   "source": [
    "Q2: Show the different penguins species in the dataset, the number of samples of each specie? \n",
    "\n",
    "- Using Visualization of 2 figures: One bar plot and one pie plot. "
   ]
  },
  {
   "cell_type": "code",
   "execution_count": 4,
   "id": "925f52da",
   "metadata": {},
   "outputs": [],
   "source": [
    "# Write your code here."
   ]
  },
  {
   "cell_type": "markdown",
   "metadata": {},
   "source": [
    "Q3: Plot histograms for the numerical features including the kernel"
   ]
  },
  {
   "cell_type": "code",
   "execution_count": 5,
   "id": "f073cb78",
   "metadata": {},
   "outputs": [],
   "source": [
    "# Write your code here."
   ]
  },
  {
   "cell_type": "markdown",
   "metadata": {},
   "source": [
    "Q4: Show features distribution for each class. Hint: use\n",
    "[`seaborn.pairplot`](https://seaborn.pydata.org/generated/seaborn.pairplot.html)"
   ]
  },
  {
   "cell_type": "code",
   "execution_count": 6,
   "id": "7b0db386",
   "metadata": {},
   "outputs": [],
   "source": [
    "# Write your code here."
   ]
  },
  {
   "cell_type": "markdown",
   "id": "9859767f",
   "metadata": {},
   "source": [
    "## Problem 2 \n",
    "In this problem, we apply `LogisticRegression` to predicts 2 different classes: \n",
    "\n",
    "class `1` for `' Low'` and \n",
    "\n",
    "class `0` for `' High'` \n",
    "    \n",
    "then show the estimated and real classes."
   ]
  },
  {
   "cell_type": "code",
   "execution_count": 20,
   "id": "b8fa1c6e",
   "metadata": {},
   "outputs": [],
   "source": [
    "import pandas as pd\n",
    "import numpy as np\n",
    "\n",
    "empl = pd.read_csv(\"Employment.csv\")"
   ]
  },
  {
   "cell_type": "markdown",
   "id": "43763eb3",
   "metadata": {},
   "source": [
    "Q1: Split the dataset to have the output labels separated from the inout features used for training\n",
    "used to train our predictive model."
   ]
  },
  {
   "cell_type": "code",
   "execution_count": 11,
   "id": "b6c1b24c",
   "metadata": {},
   "outputs": [],
   "source": [
    "# Write your code here.  \n"
   ]
  },
  {
   "cell_type": "markdown",
   "id": "b489dd12",
   "metadata": {},
   "source": [
    "Q2: Select the following numerical columns to use for training: `\"age\"`, `\"gains\"`, `\"losses\"` and `\"hours-per-week\"`"
   ]
  },
  {
   "cell_type": "code",
   "execution_count": 14,
   "id": "5689fa58",
   "metadata": {},
   "outputs": [],
   "source": [
    "# Write your code here.\n"
   ]
  },
  {
   "cell_type": "markdown",
   "id": "44e8e6ed",
   "metadata": {},
   "source": [
    "Q3: Split the data and output label into a train and test set."
   ]
  },
  {
   "cell_type": "code",
   "execution_count": 15,
   "id": "e9388f7d",
   "metadata": {},
   "outputs": [],
   "source": [
    "from sklearn.model_selection import train_test_split\n",
    "\n",
    "# Write your code here.\n"
   ]
  },
  {
   "cell_type": "markdown",
   "id": "889e9a47",
   "metadata": {},
   "source": [
    "Q4: Compute the logistic regression model. \n",
    "\n",
    "Hint: use `LogisticRegression` method from the scikit-learn and the `linear_model` package then Fit the linear model using the numpy arrays of the features and the labels for the training data set."
   ]
  },
  {
   "cell_type": "code",
   "execution_count": 16,
   "id": "2a2925bf",
   "metadata": {},
   "outputs": [
    {
     "data": {
      "text/plain": [
       "LogisticRegression()"
      ]
     },
     "execution_count": 16,
     "metadata": {},
     "output_type": "execute_result"
    }
   ],
   "source": [
    "# Write your code here.\n"
   ]
  },
  {
   "cell_type": "markdown",
   "id": "04e1e987",
   "metadata": {},
   "source": [
    "Q5: Show the intercept and coefficients of the logistic Regression"
   ]
  },
  {
   "cell_type": "code",
   "execution_count": 17,
   "id": "6c6d07a3",
   "metadata": {},
   "outputs": [
    {
     "name": "stdout",
     "output_type": "stream",
     "text": [
      "[4.84189529]\n",
      "[[-0.03864058 -0.00032683 -0.00077313 -0.04316873]]\n"
     ]
    }
   ],
   "source": [
    "# Insert your code here\n"
   ]
  },
  {
   "cell_type": "markdown",
   "id": "7b7a5027",
   "metadata": {},
   "source": [
    "Recall that the logistic regression model outputs probabilities for each class. The class with the highest probability is taken as the score (prediction). \n",
    "\n",
    "Q6: Show the probabilities of a sample of these class probabilities for the test feature set. "
   ]
  },
  {
   "cell_type": "code",
   "execution_count": 18,
   "id": "655ef644",
   "metadata": {},
   "outputs": [
    {
     "name": "stdout",
     "output_type": "stream",
     "text": [
      "[[0.27862874 0.72137126]\n",
      " [0.1044124  0.8955876 ]\n",
      " [0.96211005 0.03788995]\n",
      " [0.1325443  0.8674557 ]\n",
      " [0.11508192 0.88491808]\n",
      " [0.087677   0.912323  ]\n",
      " [0.30731306 0.69268694]\n",
      " [0.33398224 0.66601776]\n",
      " [0.17883781 0.82116219]\n",
      " [0.13705047 0.86294953]\n",
      " [0.45086415 0.54913585]\n",
      " [0.06789649 0.93210351]\n",
      " [0.22090533 0.77909467]\n",
      " [0.11028334 0.88971666]\n",
      " [0.15637585 0.84362415]]\n"
     ]
    }
   ],
   "source": [
    "\n",
    "# Write your code here."
   ]
  },
  {
   "cell_type": "markdown",
   "id": "7a283cd6",
   "metadata": {},
   "source": [
    "Q7: show the classes estimated by our classifier versus the actual classes from our dataset using probability threshold = 0.5.    Print predicted values and actual values"
   ]
  },
  {
   "cell_type": "code",
   "execution_count": 21,
   "id": "a857c68a",
   "metadata": {},
   "outputs": [
    {
     "name": "stdout",
     "output_type": "stream",
     "text": [
      "[1 1 0 1 1 1 1 1 1 1 1 1 1 1 1]\n",
      "7762       Low\n",
      "23881      Low\n",
      "30507     High\n",
      "28911      Low\n",
      "19484      Low\n",
      "43031      Low\n",
      "28188      Low\n",
      "12761     High\n",
      "40834      Low\n",
      "27875      Low\n",
      "1276       Low\n",
      "22608      Low\n",
      "36230      Low\n",
      "13398      Low\n",
      "43536      Low\n",
      "Name: Output_Class, dtype: object\n"
     ]
    }
   ],
   "source": [
    "# Insert your code here\n",
    "# Solution\n"
   ]
  }
 ],
 "metadata": {
  "jupytext": {
   "encoding": "# -*- coding: utf-8 -*-",
   "main_language": "python"
  },
  "kernelspec": {
   "display_name": "Python 3",
   "name": "python3"
  },
  "language_info": {
   "codemirror_mode": {
    "name": "ipython",
    "version": 3
   },
   "file_extension": ".py",
   "mimetype": "text/x-python",
   "name": "python",
   "nbconvert_exporter": "python",
   "pygments_lexer": "ipython3",
   "version": "3.10.0"
  }
 },
 "nbformat": 4,
 "nbformat_minor": 5
}
